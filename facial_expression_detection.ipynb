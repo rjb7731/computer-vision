{
  "nbformat": 4,
  "nbformat_minor": 0,
  "metadata": {
    "colab": {
      "provenance": [],
      "gpuType": "T4"
    },
    "kernelspec": {
      "name": "python3",
      "display_name": "Python 3"
    },
    "language_info": {
      "name": "python"
    },
    "accelerator": "GPU"
  },
  "cells": [
    {
      "cell_type": "code",
      "source": [
        "!pip install datasets"
      ],
      "metadata": {
        "id": "53qNxaxSPOMc"
      },
      "execution_count": null,
      "outputs": []
    },
    {
      "cell_type": "code",
      "source": [
        "import torch\n",
        "from torch import nn\n",
        "from torch.optim import Adam\n",
        "from torch.nn import functional as F\n",
        "from torch.utils.data import DataLoader, TensorDataset\n",
        "from sklearn.model_selection import train_test_split\n",
        "import numpy as np\n",
        "from PIL import Image\n",
        "import io\n",
        "import matplotlib.pyplot as plt\n",
        "import torch\n",
        "from torchvision import transforms"
      ],
      "metadata": {
        "id": "9PqFa4m6Mpwj"
      },
      "execution_count": null,
      "outputs": []
    },
    {
      "cell_type": "code",
      "source": [
        "from datasets import load_dataset\n",
        "\n",
        "dataset = load_dataset(\"Jeneral/fer2013\")\n",
        "\n",
        "print(dataset)"
      ],
      "metadata": {
        "colab": {
          "base_uri": "https://localhost:8080/"
        },
        "id": "xvqZpUo2PNG_",
        "outputId": "327a7115-c9d5-4ed9-f55c-edb07c3b31ef"
      },
      "execution_count": null,
      "outputs": [
        {
          "output_type": "stream",
          "name": "stdout",
          "text": [
            "DatasetDict({\n",
            "    train: Dataset({\n",
            "        features: ['img_bytes', 'labels'],\n",
            "        num_rows: 35887\n",
            "    })\n",
            "})\n"
          ]
        }
      ]
    },
    {
      "cell_type": "code",
      "source": [
        "labels = [x[\"labels\"] for x in dataset[\"train\"]]\n",
        "images = [x[\"img_bytes\"] for x in dataset[\"train\"]]"
      ],
      "metadata": {
        "id": "6xCm1kFaY_xo"
      },
      "execution_count": null,
      "outputs": []
    },
    {
      "cell_type": "code",
      "source": [
        "def label_to_emotion(label):\n",
        "    emotions = {0: 'Angry',\\\n",
        "              1: 'Disgust', \\\n",
        "              2: 'Fear', \\\n",
        "              3:'Happy',\n",
        "              4:'Sad', \\\n",
        "              5: 'Surprise', \\\n",
        "              6: 'Neutral'}\n",
        "    return emotions[label]\n",
        "\n",
        "def display_image(img_bytes):\n",
        "    # Load the image from bytes\n",
        "    img = Image.open(io.BytesIO(img_bytes))\n",
        "\n",
        "    # Display the image\n",
        "    plt.imshow(img)\n",
        "    plt.show()\n",
        "\n",
        "\n",
        "def convert_image_to_tensor(img_bytes):\n",
        "    # Define the transformation\n",
        "    img = Image.open(io.BytesIO(img_bytes))\n",
        "    transform = transforms.Compose([\n",
        "        transforms.ToTensor(),\n",
        "    ])\n",
        "\n",
        "    # add an extra dimension (for the batch)\n",
        "    img_tensor = transform(img).unsqueeze(0)\n",
        "\n",
        "    return img_tensor\n",
        "\n",
        "print(label_to_emotion(labels[2]))\n",
        "display_image(images[2])"
      ],
      "metadata": {
        "colab": {
          "base_uri": "https://localhost:8080/",
          "height": 449
        },
        "id": "hGAqjyzoY3rY",
        "outputId": "fdc0e5ac-fda9-4963-ff21-e85075e2b546"
      },
      "execution_count": null,
      "outputs": [
        {
          "output_type": "stream",
          "name": "stdout",
          "text": [
            "Angry\n"
          ]
        },
        {
          "output_type": "display_data",
          "data": {
            "text/plain": [
              "<Figure size 640x480 with 1 Axes>"
            ],
            "image/png": "[encoded data removed]"
          },
          "metadata": {}
        }
      ]
    },
    {
      "cell_type": "code",
      "source": [
        "transform = transforms.Compose([\n",
        "    transforms.ToTensor()\n",
        "])\n",
        "\n",
        "# Convert images to tensor\n",
        "image_tensors = torch.stack([convert_image_to_tensor(image) for image in images])\n",
        "label_tensors = torch.tensor(labels)\n",
        "\n",
        "# My own test set for the end..\n",
        "test_image_tensors = image_tensors[:100]\n",
        "test_label_tensors = label_tensors[:100]\n",
        "\n",
        "X_train, X_test, y_train, y_test = train_test_split(image_tensors[100:], label_tensors[100:], test_size=0.2, random_state=42)\n",
        "\n",
        "# Transform lists into TensorDataset\n",
        "train_data = TensorDataset(torch.tensor(X_train), torch.tensor(y_train))\n",
        "test_data = TensorDataset(torch.tensor(X_test), torch.tensor(y_test))"
      ],
      "metadata": {
        "colab": {
          "base_uri": "https://localhost:8080/"
        },
        "id": "_93Yf0KDPapc",
        "outputId": "12dddcd3-1bb6-4d31-cf09-d3370a5fd4f8"
      },
      "execution_count": null,
      "outputs": [
        {
          "output_type": "stream",
          "name": "stderr",
          "text": [
            "<ipython-input-6-fc1567ee8a6e>:16: UserWarning: To copy construct from a tensor, it is recommended to use sourceTensor.clone().detach() or sourceTensor.clone().detach().requires_grad_(True), rather than torch.tensor(sourceTensor).\n",
            "  train_data = TensorDataset(torch.tensor(X_train), torch.tensor(y_train))\n",
            "<ipython-input-6-fc1567ee8a6e>:17: UserWarning: To copy construct from a tensor, it is recommended to use sourceTensor.clone().detach() or sourceTensor.clone().detach().requires_grad_(True), rather than torch.tensor(sourceTensor).\n",
            "  test_data = TensorDataset(torch.tensor(X_test), torch.tensor(y_test))\n"
          ]
        }
      ]
    },
    {
      "cell_type": "code",
      "source": [
        "image_tensors[:100].shape"
      ],
      "metadata": {
        "colab": {
          "base_uri": "https://localhost:8080/"
        },
        "id": "-PskmVZXQE5p",
        "outputId": "4e021077-39fc-4e6e-823b-1db0176671d5"
      },
      "execution_count": null,
      "outputs": [
        {
          "output_type": "execute_result",
          "data": {
            "text/plain": [
              "torch.Size([100, 1, 1, 48, 48])"
            ]
          },
          "metadata": {},
          "execution_count": 7
        }
      ]
    },
    {
      "cell_type": "code",
      "source": [
        "X_train[0].shape"
      ],
      "metadata": {
        "colab": {
          "base_uri": "https://localhost:8080/"
        },
        "id": "NWiJqMG4Vpau",
        "outputId": "394cffb9-e6d0-4924-87c5-a63193a9aa04"
      },
      "execution_count": null,
      "outputs": [
        {
          "output_type": "execute_result",
          "data": {
            "text/plain": [
              "torch.Size([1, 1, 48, 48])"
            ]
          },
          "metadata": {},
          "execution_count": 8
        }
      ]
    },
    {
      "cell_type": "code",
      "source": [
        "num_features = 64\n",
        "num_labels = 7\n",
        "batch_size = 64\n",
        "width, height = 48, 48\n",
        "\n",
        "# Create DataLoaders\n",
        "train_loader = DataLoader(train_data, batch_size=64, shuffle=True)\n",
        "test_loader = DataLoader(test_data, batch_size=64, shuffle=False)\n",
        "\n",
        "\n",
        "class Net(nn.Module):\n",
        "    def __init__(self):\n",
        "        super(Net, self).__init__()\n",
        "\n",
        "        layers = [\n",
        "            nn.Conv2d(1, num_features, kernel_size=3, stride=1, padding=1),\n",
        "            nn.ReLU(inplace=True),\n",
        "            nn.Conv2d(num_features, num_features, kernel_size=3, stride=1, padding=1),\n",
        "            nn.ReLU(inplace=True),\n",
        "            nn.BatchNorm2d(num_features),\n",
        "            nn.MaxPool2d(kernel_size=2, stride=2),\n",
        "            nn.Dropout(0.5)\n",
        "        ]\n",
        "\n",
        "        for i in range(3):\n",
        "            layers.extend([\n",
        "                nn.Conv2d(num_features * (2 ** i), num_features * (2 ** (i+1)), kernel_size=3, stride=1, padding=1),\n",
        "                nn.ReLU(inplace=True),\n",
        "                nn.Conv2d(num_features * (2 ** (i+1)), num_features * (2 ** (i+1)), kernel_size=3, stride=1, padding=1),\n",
        "                nn.ReLU(inplace=True),\n",
        "                nn.BatchNorm2d(num_features * (2 ** (i+1))),\n",
        "                nn.MaxPool2d(kernel_size=2, stride=2),\n",
        "                nn.Dropout(0.5)\n",
        "            ])\n",
        "\n",
        "        self.features = nn.Sequential(*layers)\n",
        "\n",
        "        self.classifier = nn.Sequential(\n",
        "            nn.Linear(4608, 256),\n",
        "            nn.Linear(2*2*num_features, 2*2*2*num_features),\n",
        "            nn.ReLU(),\n",
        "            nn.Dropout(0.4),\n",
        "            nn.Linear(2*2*2*num_features, 2*2*num_features),\n",
        "            nn.ReLU(),\n",
        "            nn.Dropout(0.4),\n",
        "            nn.Linear(2*2*num_features, 2*num_features),\n",
        "            nn.ReLU(),\n",
        "            nn.Dropout(0.5),\n",
        "            nn.Linear(2*num_features, num_labels)\n",
        "        )\n",
        "\n",
        "    def forward(self, x):\n",
        "        x = self.features(x)\n",
        "        x = x.view(x.size(0), -1) #flattens our tensor into 4608\n",
        "        x = self.classifier(x)\n",
        "        return F.log_softmax(x, dim=1)\n",
        "\n",
        "model = Net()\n",
        "pred = model(image_tensors[0])\n",
        "print(pred)\n"
      ],
      "metadata": {
        "colab": {
          "base_uri": "https://localhost:8080/"
        },
        "id": "zQuCR2K_MfKW",
        "outputId": "0f0a10fe-0fed-4606-93a4-b7b2259a812d"
      },
      "execution_count": null,
      "outputs": [
        {
          "output_type": "stream",
          "name": "stdout",
          "text": [
            "tensor([[-2.0500, -1.8436, -1.9497, -1.8418, -1.8116, -2.0881, -2.0806]],\n",
            "       grad_fn=<LogSoftmaxBackward0>)\n"
          ]
        }
      ]
    },
    {
      "cell_type": "code",
      "source": [
        "image_tensors[0].squeeze().shape"
      ],
      "metadata": {
        "colab": {
          "base_uri": "https://localhost:8080/"
        },
        "id": "lXTiq5w5ZkSG",
        "outputId": "d740d81d-756a-4581-98e7-dba760471b3f"
      },
      "execution_count": null,
      "outputs": [
        {
          "output_type": "execute_result",
          "data": {
            "text/plain": [
              "torch.Size([48, 48])"
            ]
          },
          "metadata": {},
          "execution_count": 10
        }
      ]
    },
    {
      "cell_type": "code",
      "source": [
        "device = torch.device('cuda' if torch.cuda.is_available() else 'cpu')"
      ],
      "metadata": {
        "id": "FuAvUcsAbIsx"
      },
      "execution_count": null,
      "outputs": []
    },
    {
      "cell_type": "code",
      "source": [
        "# Check if CUDA is available and set PyTorch to use GPU or CPU\n",
        "device = torch.device(\"cuda\" if torch.cuda.is_available() else \"cpu\")\n",
        "\n",
        "criterion = nn.CrossEntropyLoss()\n",
        "\n",
        "model = model.to(device)\n",
        "optimizer = Adam(model.parameters(), lr=0.001, betas=(0.9, 0.999), eps=1e-7)\n",
        "\n",
        "for epoch in range(100):\n",
        "\n",
        "    model.train()\n",
        "    running_loss = 0.0\n",
        "    test_correct = 0\n",
        "    test_total = 0\n",
        "    for i, data in enumerate(train_loader, 0):\n",
        "        inputs, labels = data\n",
        "        inputs, labels = inputs.to(device), labels.to(device)\n",
        "        inputs = inputs.squeeze(1) #[64, 1, 48, 48]\n",
        "\n",
        "        optimizer.zero_grad()\n",
        "\n",
        "        # forward + backward + optimize\n",
        "        outputs = model(inputs)\n",
        "        loss = criterion(outputs, labels)\n",
        "        loss.backward()\n",
        "        optimizer.step()\n",
        "\n",
        "        running_loss += loss.item()\n",
        "        _, predicted = torch.max(outputs, 1)\n",
        "        test_total += labels.size(0)\n",
        "        test_correct += (predicted == labels).sum().item()\n",
        "\n",
        "    test_accuracy = test_correct / test_total * 100\n",
        "\n",
        "    model.eval()  # Set the network to evaluation mode\n",
        "    val_loss = 0.0\n",
        "    correct = 0\n",
        "    total = 0\n",
        "    with torch.no_grad():\n",
        "        for i, data in enumerate(test_loader, 0):\n",
        "            inputs, labels = data\n",
        "\n",
        "            inputs, labels = inputs.to(device), labels.to(device)\n",
        "            inputs = inputs.squeeze(1) #[64, 1, 48, 48]\n",
        "            outputs = model(inputs)\n",
        "            loss = criterion(outputs, labels)\n",
        "            val_loss += loss.item()\n",
        "            _, predicted = torch.max(outputs, 1)\n",
        "            total += labels.size(0)\n",
        "            correct += (predicted == labels).sum().item()\n",
        "\n",
        "    validation_accuracy = correct / total * 100\n",
        "\n",
        "    print('Epoch: %d, Test Accuracy: %.2f,Test Loss: %.2f, Validation Accuracy: %.2f, Validation Loss: %.3f' %\n",
        "          (epoch + 1, test_accuracy, running_loss/len(train_loader), validation_accuracy, val_loss / len(test_loader),))\n",
        "\n",
        "print('Finished Training')\n"
      ],
      "metadata": {
        "colab": {
          "base_uri": "https://localhost:8080/"
        },
        "id": "IHo-_e2zYaS1",
        "outputId": "abf344c3-9c77-4791-f78f-aa1b4fbe81d5"
      },
      "execution_count": null,
      "outputs": [
        {
          "output_type": "stream",
          "name": "stdout",
          "text": [
            "Epoch: 1, Test Accuracy: 25.26,Test Loss: 1.81, Validation Accuracy: 30.33, Validation Loss: 1.719\n",
            "Epoch: 2, Test Accuracy: 33.21,Test Loss: 1.67, Validation Accuracy: 34.52, Validation Loss: 1.623\n",
            "Epoch: 3, Test Accuracy: 38.63,Test Loss: 1.56, Validation Accuracy: 42.60, Validation Loss: 1.474\n",
            "Epoch: 4, Test Accuracy: 41.14,Test Loss: 1.51, Validation Accuracy: 44.82, Validation Loss: 1.429\n",
            "Epoch: 5, Test Accuracy: 42.75,Test Loss: 1.46, Validation Accuracy: 45.46, Validation Loss: 1.396\n",
            "Epoch: 6, Test Accuracy: 44.34,Test Loss: 1.43, Validation Accuracy: 46.79, Validation Loss: 1.359\n",
            "Epoch: 7, Test Accuracy: 46.26,Test Loss: 1.39, Validation Accuracy: 49.80, Validation Loss: 1.310\n",
            "Epoch: 8, Test Accuracy: 48.02,Test Loss: 1.36, Validation Accuracy: 51.69, Validation Loss: 1.261\n",
            "Epoch: 9, Test Accuracy: 49.08,Test Loss: 1.33, Validation Accuracy: 53.16, Validation Loss: 1.244\n",
            "Epoch: 10, Test Accuracy: 50.60,Test Loss: 1.30, Validation Accuracy: 53.17, Validation Loss: 1.236\n",
            "Epoch: 11, Test Accuracy: 51.26,Test Loss: 1.29, Validation Accuracy: 53.23, Validation Loss: 1.219\n",
            "Epoch: 12, Test Accuracy: 52.18,Test Loss: 1.27, Validation Accuracy: 56.08, Validation Loss: 1.172\n",
            "Epoch: 13, Test Accuracy: 53.32,Test Loss: 1.24, Validation Accuracy: 56.08, Validation Loss: 1.162\n",
            "Epoch: 14, Test Accuracy: 54.41,Test Loss: 1.22, Validation Accuracy: 57.12, Validation Loss: 1.141\n",
            "Epoch: 15, Test Accuracy: 54.62,Test Loss: 1.21, Validation Accuracy: 56.83, Validation Loss: 1.149\n",
            "Epoch: 16, Test Accuracy: 55.50,Test Loss: 1.20, Validation Accuracy: 58.24, Validation Loss: 1.118\n",
            "Epoch: 17, Test Accuracy: 56.30,Test Loss: 1.19, Validation Accuracy: 57.98, Validation Loss: 1.125\n",
            "Epoch: 18, Test Accuracy: 57.16,Test Loss: 1.16, Validation Accuracy: 56.80, Validation Loss: 1.176\n",
            "Epoch: 19, Test Accuracy: 57.76,Test Loss: 1.15, Validation Accuracy: 58.97, Validation Loss: 1.098\n",
            "Epoch: 20, Test Accuracy: 58.85,Test Loss: 1.13, Validation Accuracy: 59.57, Validation Loss: 1.124\n",
            "Epoch: 21, Test Accuracy: 59.10,Test Loss: 1.12, Validation Accuracy: 60.44, Validation Loss: 1.085\n",
            "Epoch: 22, Test Accuracy: 59.19,Test Loss: 1.12, Validation Accuracy: 59.36, Validation Loss: 1.117\n",
            "Epoch: 23, Test Accuracy: 59.90,Test Loss: 1.10, Validation Accuracy: 60.84, Validation Loss: 1.075\n",
            "Epoch: 24, Test Accuracy: 60.92,Test Loss: 1.08, Validation Accuracy: 59.92, Validation Loss: 1.093\n",
            "Epoch: 25, Test Accuracy: 61.59,Test Loss: 1.07, Validation Accuracy: 60.81, Validation Loss: 1.087\n",
            "Epoch: 26, Test Accuracy: 61.50,Test Loss: 1.06, Validation Accuracy: 60.11, Validation Loss: 1.111\n",
            "Epoch: 27, Test Accuracy: 62.40,Test Loss: 1.05, Validation Accuracy: 60.65, Validation Loss: 1.101\n",
            "Epoch: 28, Test Accuracy: 62.43,Test Loss: 1.04, Validation Accuracy: 60.60, Validation Loss: 1.071\n",
            "Epoch: 29, Test Accuracy: 63.04,Test Loss: 1.03, Validation Accuracy: 61.01, Validation Loss: 1.077\n",
            "Epoch: 30, Test Accuracy: 63.35,Test Loss: 1.02, Validation Accuracy: 61.54, Validation Loss: 1.066\n",
            "Epoch: 31, Test Accuracy: 63.75,Test Loss: 1.01, Validation Accuracy: 62.25, Validation Loss: 1.035\n",
            "Epoch: 32, Test Accuracy: 64.42,Test Loss: 0.99, Validation Accuracy: 61.09, Validation Loss: 1.071\n",
            "Epoch: 33, Test Accuracy: 64.90,Test Loss: 0.98, Validation Accuracy: 61.54, Validation Loss: 1.072\n",
            "Epoch: 34, Test Accuracy: 64.90,Test Loss: 0.98, Validation Accuracy: 61.09, Validation Loss: 1.066\n",
            "Epoch: 35, Test Accuracy: 66.17,Test Loss: 0.96, Validation Accuracy: 61.69, Validation Loss: 1.054\n",
            "Epoch: 36, Test Accuracy: 65.81,Test Loss: 0.96, Validation Accuracy: 62.15, Validation Loss: 1.062\n",
            "Epoch: 37, Test Accuracy: 66.55,Test Loss: 0.94, Validation Accuracy: 62.73, Validation Loss: 1.041\n",
            "Epoch: 38, Test Accuracy: 67.02,Test Loss: 0.92, Validation Accuracy: 62.28, Validation Loss: 1.035\n",
            "Epoch: 39, Test Accuracy: 66.93,Test Loss: 0.92, Validation Accuracy: 62.57, Validation Loss: 1.023\n",
            "Epoch: 40, Test Accuracy: 67.19,Test Loss: 0.92, Validation Accuracy: 61.78, Validation Loss: 1.061\n",
            "Epoch: 41, Test Accuracy: 67.99,Test Loss: 0.90, Validation Accuracy: 62.59, Validation Loss: 1.034\n",
            "Epoch: 42, Test Accuracy: 68.30,Test Loss: 0.90, Validation Accuracy: 62.85, Validation Loss: 1.039\n",
            "Epoch: 43, Test Accuracy: 68.90,Test Loss: 0.89, Validation Accuracy: 62.62, Validation Loss: 1.023\n",
            "Epoch: 44, Test Accuracy: 68.96,Test Loss: 0.88, Validation Accuracy: 62.14, Validation Loss: 1.070\n",
            "Epoch: 45, Test Accuracy: 69.48,Test Loss: 0.87, Validation Accuracy: 62.17, Validation Loss: 1.056\n",
            "Epoch: 46, Test Accuracy: 69.80,Test Loss: 0.86, Validation Accuracy: 63.30, Validation Loss: 1.037\n",
            "Epoch: 47, Test Accuracy: 69.80,Test Loss: 0.85, Validation Accuracy: 62.20, Validation Loss: 1.075\n",
            "Epoch: 48, Test Accuracy: 70.19,Test Loss: 0.85, Validation Accuracy: 62.96, Validation Loss: 1.034\n",
            "Epoch: 49, Test Accuracy: 70.40,Test Loss: 0.84, Validation Accuracy: 63.08, Validation Loss: 1.102\n",
            "Epoch: 50, Test Accuracy: 71.03,Test Loss: 0.83, Validation Accuracy: 62.67, Validation Loss: 1.102\n",
            "Epoch: 51, Test Accuracy: 70.80,Test Loss: 0.83, Validation Accuracy: 62.07, Validation Loss: 1.048\n",
            "Epoch: 52, Test Accuracy: 71.31,Test Loss: 0.81, Validation Accuracy: 63.57, Validation Loss: 1.083\n",
            "Epoch: 53, Test Accuracy: 71.93,Test Loss: 0.80, Validation Accuracy: 62.98, Validation Loss: 1.049\n",
            "Epoch: 54, Test Accuracy: 72.26,Test Loss: 0.80, Validation Accuracy: 63.54, Validation Loss: 1.032\n",
            "Epoch: 55, Test Accuracy: 73.02,Test Loss: 0.78, Validation Accuracy: 63.80, Validation Loss: 1.055\n",
            "Epoch: 56, Test Accuracy: 72.87,Test Loss: 0.78, Validation Accuracy: 63.75, Validation Loss: 1.041\n",
            "Epoch: 57, Test Accuracy: 72.88,Test Loss: 0.79, Validation Accuracy: 64.04, Validation Loss: 1.049\n",
            "Epoch: 58, Test Accuracy: 73.23,Test Loss: 0.77, Validation Accuracy: 63.93, Validation Loss: 1.039\n",
            "Epoch: 59, Test Accuracy: 73.50,Test Loss: 0.76, Validation Accuracy: 63.30, Validation Loss: 1.056\n",
            "Epoch: 60, Test Accuracy: 74.23,Test Loss: 0.75, Validation Accuracy: 64.15, Validation Loss: 1.082\n",
            "Epoch: 61, Test Accuracy: 74.05,Test Loss: 0.75, Validation Accuracy: 63.47, Validation Loss: 1.087\n",
            "Epoch: 62, Test Accuracy: 74.76,Test Loss: 0.73, Validation Accuracy: 63.01, Validation Loss: 1.081\n",
            "Epoch: 63, Test Accuracy: 74.74,Test Loss: 0.73, Validation Accuracy: 62.81, Validation Loss: 1.120\n",
            "Epoch: 64, Test Accuracy: 75.34,Test Loss: 0.72, Validation Accuracy: 63.66, Validation Loss: 1.036\n",
            "Epoch: 65, Test Accuracy: 75.57,Test Loss: 0.71, Validation Accuracy: 64.21, Validation Loss: 1.099\n",
            "Epoch: 66, Test Accuracy: 75.66,Test Loss: 0.71, Validation Accuracy: 63.84, Validation Loss: 1.091\n",
            "Epoch: 67, Test Accuracy: 75.62,Test Loss: 0.71, Validation Accuracy: 64.26, Validation Loss: 1.094\n",
            "Epoch: 68, Test Accuracy: 76.30,Test Loss: 0.69, Validation Accuracy: 63.51, Validation Loss: 1.083\n",
            "Epoch: 69, Test Accuracy: 76.27,Test Loss: 0.69, Validation Accuracy: 64.54, Validation Loss: 1.080\n",
            "Epoch: 70, Test Accuracy: 77.10,Test Loss: 0.68, Validation Accuracy: 64.03, Validation Loss: 1.076\n",
            "Epoch: 71, Test Accuracy: 76.56,Test Loss: 0.68, Validation Accuracy: 64.29, Validation Loss: 1.099\n",
            "Epoch: 72, Test Accuracy: 76.93,Test Loss: 0.68, Validation Accuracy: 64.29, Validation Loss: 1.087\n",
            "Epoch: 73, Test Accuracy: 77.62,Test Loss: 0.66, Validation Accuracy: 63.97, Validation Loss: 1.082\n",
            "Epoch: 74, Test Accuracy: 77.90,Test Loss: 0.65, Validation Accuracy: 64.56, Validation Loss: 2.634\n",
            "Epoch: 75, Test Accuracy: 77.34,Test Loss: 0.67, Validation Accuracy: 64.59, Validation Loss: 1.087\n",
            "Epoch: 76, Test Accuracy: 77.53,Test Loss: 0.66, Validation Accuracy: 64.31, Validation Loss: 1.154\n",
            "Epoch: 77, Test Accuracy: 77.53,Test Loss: 0.66, Validation Accuracy: 65.27, Validation Loss: 1.172\n",
            "Epoch: 78, Test Accuracy: 78.31,Test Loss: 0.65, Validation Accuracy: 63.48, Validation Loss: 1.195\n",
            "Epoch: 79, Test Accuracy: 78.25,Test Loss: 0.65, Validation Accuracy: 64.60, Validation Loss: 1.134\n",
            "Epoch: 80, Test Accuracy: 78.25,Test Loss: 0.63, Validation Accuracy: 64.64, Validation Loss: 1.129\n",
            "Epoch: 81, Test Accuracy: 78.63,Test Loss: 0.63, Validation Accuracy: 63.90, Validation Loss: 1.248\n",
            "Epoch: 82, Test Accuracy: 78.72,Test Loss: 0.62, Validation Accuracy: 64.85, Validation Loss: 1.246\n",
            "Epoch: 83, Test Accuracy: 79.14,Test Loss: 0.62, Validation Accuracy: 64.10, Validation Loss: 1.255\n",
            "Epoch: 84, Test Accuracy: 79.37,Test Loss: 0.61, Validation Accuracy: 64.38, Validation Loss: 1.164\n",
            "Epoch: 85, Test Accuracy: 79.31,Test Loss: 0.61, Validation Accuracy: 64.64, Validation Loss: 1.112\n",
            "Epoch: 86, Test Accuracy: 80.27,Test Loss: 0.59, Validation Accuracy: 65.23, Validation Loss: 1.216\n",
            "Epoch: 87, Test Accuracy: 79.75,Test Loss: 0.60, Validation Accuracy: 63.89, Validation Loss: 1.130\n",
            "Epoch: 88, Test Accuracy: 80.39,Test Loss: 0.59, Validation Accuracy: 63.24, Validation Loss: 1.701\n",
            "Epoch: 89, Test Accuracy: 80.17,Test Loss: 0.59, Validation Accuracy: 64.22, Validation Loss: 1.233\n",
            "Epoch: 90, Test Accuracy: 80.31,Test Loss: 0.59, Validation Accuracy: 64.11, Validation Loss: 1.087\n",
            "Epoch: 91, Test Accuracy: 80.82,Test Loss: 0.58, Validation Accuracy: 65.30, Validation Loss: 1.118\n",
            "Epoch: 92, Test Accuracy: 80.60,Test Loss: 0.58, Validation Accuracy: 64.54, Validation Loss: 1.134\n",
            "Epoch: 93, Test Accuracy: 80.98,Test Loss: 0.58, Validation Accuracy: 64.98, Validation Loss: 1.149\n",
            "Epoch: 94, Test Accuracy: 81.42,Test Loss: 0.55, Validation Accuracy: 64.92, Validation Loss: 1.178\n",
            "Epoch: 95, Test Accuracy: 81.59,Test Loss: 0.55, Validation Accuracy: 64.72, Validation Loss: 1.177\n",
            "Epoch: 96, Test Accuracy: 82.16,Test Loss: 0.53, Validation Accuracy: 65.12, Validation Loss: 1.218\n",
            "Epoch: 97, Test Accuracy: 81.85,Test Loss: 0.55, Validation Accuracy: 64.03, Validation Loss: 1.274\n",
            "Epoch: 98, Test Accuracy: 82.03,Test Loss: 0.54, Validation Accuracy: 64.64, Validation Loss: 1.185\n",
            "Epoch: 99, Test Accuracy: 82.33,Test Loss: 0.54, Validation Accuracy: 64.53, Validation Loss: 1.255\n",
            "Epoch: 100, Test Accuracy: 82.57,Test Loss: 0.53, Validation Accuracy: 64.81, Validation Loss: 1.139\n",
            "Finished Training\n"
          ]
        }
      ]
    },
    {
      "cell_type": "code",
      "source": [
        "from PIL import Image\n",
        "from torchvision import transforms\n",
        "\n",
        "def predict_image(model, num):\n",
        "    to_pil = transforms.ToPILImage()\n",
        "    img = to_pil(test_image_tensors[num].squeeze(0))  # Remove the batch dimension and convert to PIL Image\n",
        "\n",
        "    transform = transforms.Compose([\n",
        "        # transforms.Resize((48, 48)),\n",
        "        transforms.ToTensor(),\n",
        "    ])\n",
        "\n",
        "    # Apply the transformations and add an extra dimension for the batch\n",
        "    image_tensor_transformed = transform(img).unsqueeze(0)\n",
        "\n",
        "    # Move the tensor to the same device as your model\n",
        "    image_tensor_transformed = image_tensor_transformed.to(device)\n",
        "\n",
        "    # Make sure your model is in eval mode\n",
        "    model.eval()\n",
        "\n",
        "    # Make the prediction\n",
        "    with torch.no_grad():\n",
        "        output = model(image_tensor_transformed)\n",
        "\n",
        "    # Get the predicted class\n",
        "    _, predicted = torch.max(output, 1)\n",
        "\n",
        "    print(\"Predicted:\", label_to_emotion(predicted.item()))\n",
        "    print(\"Actual:\", label_to_emotion(test_label_tensors[num].item()))\n",
        "\n",
        "    # Display the image\n",
        "    plt.imshow(img)\n",
        "    plt.show()\n",
        "\n",
        "    return predicted.item()\n",
        "\n",
        "\n",
        "predicted_class = predict_image(model, 0)\n",
        "\n",
        "predicted_class = predict_image(model, 5)\n",
        "\n",
        "predicted_class = predict_image(model,23)\n",
        "\n",
        "predicted_class = predict_image(model,79)\n",
        "\n"
      ],
      "metadata": {
        "colab": {
          "base_uri": "https://localhost:8080/",
          "height": 1000
        },
        "id": "3J01lIIBgxCb",
        "outputId": "f0d14b6d-235d-43b5-b2a9-c89bb81530a9"
      },
      "execution_count": null,
      "outputs": [
        {
          "output_type": "stream",
          "name": "stdout",
          "text": [
            "Predicted: Angry\n",
            "Actual: Angry\n"
          ]
        },
        {
          "output_type": "display_data",
          "data": {
            "text/plain": [
              "<Figure size 640x480 with 1 Axes>"
            ],
            "image/png": "[encoded data removed]"
          },
          "metadata": {}
        },
        {
          "output_type": "stream",
          "name": "stdout",
          "text": [
            "Predicted: Fear\n",
            "Actual: Angry\n"
          ]
        },
        {
          "output_type": "display_data",
          "data": {
            "text/plain": [
              "<Figure size 640x480 with 1 Axes>"
            ],
            "image/png": "[encoded data removed]"
          },
          "metadata": {}
        },
        {
          "output_type": "stream",
          "name": "stdout",
          "text": [
            "Predicted: Angry\n",
            "Actual: Angry\n"
          ]
        },
        {
          "output_type": "display_data",
          "data": {
            "text/plain": [
              "<Figure size 640x480 with 1 Axes>"
            ],
            "image/png": "[encoded data removed]"
          },
          "metadata": {}
        },
        {
          "output_type": "stream",
          "name": "stdout",
          "text": [
            "Predicted: Angry\n",
            "Actual: Angry\n"
          ]
        },
        {
          "output_type": "display_data",
          "data": {
            "text/plain": [
              "<Figure size 640x480 with 1 Axes>"
            ],
            "image/png": "[encoded data removed]"
          },
          "metadata": {}
        }
      ]
    }
  ]
}